{
 "cells": [
  {
   "cell_type": "code",
   "execution_count": 2,
   "id": "6c224a83",
   "metadata": {},
   "outputs": [
    {
     "ename": "SyntaxError",
     "evalue": "invalid syntax (1010326735.py, line 1)",
     "output_type": "error",
     "traceback": [
      "\u001b[1;36m  Input \u001b[1;32mIn [2]\u001b[1;36m\u001b[0m\n\u001b[1;33m    conda install -c aotools aotools\u001b[0m\n\u001b[1;37m          ^\u001b[0m\n\u001b[1;31mSyntaxError\u001b[0m\u001b[1;31m:\u001b[0m invalid syntax\n"
     ]
    }
   ],
   "source": [
    "conda install -c aotools aotools\n"
   ]
  },
  {
   "cell_type": "code",
   "execution_count": 40,
   "id": "0a4268f8",
   "metadata": {},
   "outputs": [],
   "source": [
    "\n",
    "import aotools\n",
    "\n",
    "\n"
   ]
  },
  {
   "cell_type": "code",
   "execution_count": 3,
   "id": "b6819125",
   "metadata": {},
   "outputs": [
    {
     "name": "stdout",
     "output_type": "stream",
     "text": [
      "\n",
      "Note: you may need to restart the kernel to use updated packages.Collecting package metadata (current_repodata.json): ...working... done\n",
      "Solving environment: ...working... done\n",
      "\n",
      "## Package Plan ##\n",
      "\n",
      "\n",
      "  environment location: C:\\Users\\thebi\\anaconda3\n",
      "\n"
     ]
    },
    {
     "name": "stderr",
     "output_type": "stream",
     "text": [
      "\n",
      "\n",
      "==> WARNING: A newer version of conda exists. <==\n",
      "  current version: 4.12.0\n",
      "  latest version: 24.9.2\n",
      "\n",
      "Please update conda by running\n",
      "\n",
      "    $ conda update -n base -c defaults conda\n",
      "\n",
      "\n"
     ]
    },
    {
     "name": "stdout",
     "output_type": "stream",
     "text": [
      "  added / updated specs:\n",
      "    - conda\n",
      "\n",
      "\n",
      "The following packages will be downloaded:\n",
      "\n",
      "    package                    |            build\n",
      "    ---------------------------|-----------------\n",
      "    conda-pack-0.7.1           |   py39haa95532_0          73 KB\n",
      "    pyjwt-2.8.0                |   py39haa95532_0          75 KB\n",
      "    ------------------------------------------------------------\n",
      "                                           Total:         148 KB\n",
      "\n",
      "The following packages will be UPDATED:\n",
      "\n",
      "  conda-pack         pkgs/main/noarch::conda-pack-0.6.0-py~ --> pkgs/main/win-64::conda-pack-0.7.1-py39haa95532_0\n",
      "  pyjwt                                2.1.0-py39haa95532_0 --> 2.8.0-py39haa95532_0\n",
      "\n",
      "\n",
      "\n",
      "Downloading and Extracting Packages\n",
      "\n",
      "pyjwt-2.8.0          | 75 KB     |            |   0% \n",
      "pyjwt-2.8.0          | 75 KB     | ########5  |  85% \n",
      "pyjwt-2.8.0          | 75 KB     | ########## | 100% \n",
      "\n",
      "conda-pack-0.7.1     | 73 KB     |            |   0% \n",
      "conda-pack-0.7.1     | 73 KB     | ########## | 100% \n",
      "conda-pack-0.7.1     | 73 KB     | ########## | 100% \n",
      "Preparing transaction: ...working... done\n",
      "Verifying transaction: ...working... done\n",
      "Executing transaction: ...working... done\n"
     ]
    }
   ],
   "source": [
    " conda update -n base -c defaults conda"
   ]
  },
  {
   "cell_type": "code",
   "execution_count": null,
   "id": "37da6357",
   "metadata": {},
   "outputs": [],
   "source": [
    "import scipy.integrate as integrate\n",
    "def ZernikeCoefFunc(WavefuncEq,N):\n",
    "    ## n zernike coefficient\n",
    "    i,j=0\n",
    "    ZernikeCoefs=[]\n",
    "    for i in range(0,N):\n",
    "        print(N)\n",
    "        ## m zernike coefficient\n",
    "        for j in range(0,No-1):\n",
    "            ZernCoef=integrate((1/pi)(aotools.functions.zernike.zernikeRadialFunc(i, j, r)*WavefuncEq))\n",
    "            "
   ]
  },
  {
   "cell_type": "code",
   "execution_count": 6,
   "id": "270200fb",
   "metadata": {},
   "outputs": [
    {
     "name": "stdout",
     "output_type": "stream",
     "text": [
      "[[[ 0.00000000e+00  0.00000000e+00  1.00000000e+00  1.00000000e+00\n",
      "    1.00000000e+00  0.00000000e+00  0.00000000e+00]\n",
      "  [ 0.00000000e+00  1.00000000e+00  1.00000000e+00  1.00000000e+00\n",
      "    1.00000000e+00  1.00000000e+00  0.00000000e+00]\n",
      "  [ 1.00000000e+00  1.00000000e+00  1.00000000e+00  1.00000000e+00\n",
      "    1.00000000e+00  1.00000000e+00  1.00000000e+00]\n",
      "  [ 1.00000000e+00  1.00000000e+00  1.00000000e+00  1.00000000e+00\n",
      "    1.00000000e+00  1.00000000e+00  1.00000000e+00]\n",
      "  [ 1.00000000e+00  1.00000000e+00  1.00000000e+00  1.00000000e+00\n",
      "    1.00000000e+00  1.00000000e+00  1.00000000e+00]\n",
      "  [ 0.00000000e+00  1.00000000e+00  1.00000000e+00  1.00000000e+00\n",
      "    1.00000000e+00  1.00000000e+00  0.00000000e+00]\n",
      "  [ 0.00000000e+00  0.00000000e+00  1.00000000e+00  1.00000000e+00\n",
      "    1.00000000e+00  0.00000000e+00  0.00000000e+00]]\n",
      "\n",
      " [[-0.00000000e+00 -0.00000000e+00 -5.71428571e-01  1.04969726e-16\n",
      "    5.71428571e-01  0.00000000e+00  0.00000000e+00]\n",
      "  [-0.00000000e+00 -1.14285714e+00 -5.71428571e-01  6.99798171e-17\n",
      "    5.71428571e-01  1.14285714e+00  0.00000000e+00]\n",
      "  [-1.71428571e+00 -1.14285714e+00 -5.71428571e-01  3.49899085e-17\n",
      "    5.71428571e-01  1.14285714e+00  1.71428571e+00]\n",
      "  [-1.71428571e+00 -1.14285714e+00 -5.71428571e-01  0.00000000e+00\n",
      "    5.71428571e-01  1.14285714e+00  1.71428571e+00]\n",
      "  [-1.71428571e+00 -1.14285714e+00 -5.71428571e-01  3.49899085e-17\n",
      "    5.71428571e-01  1.14285714e+00  1.71428571e+00]\n",
      "  [-0.00000000e+00 -1.14285714e+00 -5.71428571e-01  6.99798171e-17\n",
      "    5.71428571e-01  1.14285714e+00  0.00000000e+00]\n",
      "  [-0.00000000e+00 -0.00000000e+00 -5.71428571e-01  1.04969726e-16\n",
      "    5.71428571e-01  0.00000000e+00  0.00000000e+00]]\n",
      "\n",
      " [[-0.00000000e+00 -0.00000000e+00 -1.71428571e+00 -1.71428571e+00\n",
      "   -1.71428571e+00 -0.00000000e+00 -0.00000000e+00]\n",
      "  [-0.00000000e+00 -1.14285714e+00 -1.14285714e+00 -1.14285714e+00\n",
      "   -1.14285714e+00 -1.14285714e+00 -0.00000000e+00]\n",
      "  [-5.71428571e-01 -5.71428571e-01 -5.71428571e-01 -5.71428571e-01\n",
      "   -5.71428571e-01 -5.71428571e-01 -5.71428571e-01]\n",
      "  [ 2.09939451e-16  1.39959634e-16  6.99798171e-17  0.00000000e+00\n",
      "    0.00000000e+00  0.00000000e+00  0.00000000e+00]\n",
      "  [ 5.71428571e-01  5.71428571e-01  5.71428571e-01  5.71428571e-01\n",
      "    5.71428571e-01  5.71428571e-01  5.71428571e-01]\n",
      "  [ 0.00000000e+00  1.14285714e+00  1.14285714e+00  1.14285714e+00\n",
      "    1.14285714e+00  1.14285714e+00  0.00000000e+00]\n",
      "  [ 0.00000000e+00  0.00000000e+00  1.71428571e+00  1.71428571e+00\n",
      "    1.71428571e+00  0.00000000e+00  0.00000000e+00]]\n",
      "\n",
      " [[ 0.00000000e+00  0.00000000e+00  1.09578725e+00  8.13003440e-01\n",
      "    1.09578725e+00  0.00000000e+00  0.00000000e+00]\n",
      "  [ 0.00000000e+00  5.30219635e-01 -3.18131781e-01 -6.00915586e-01\n",
      "   -3.18131781e-01  5.30219635e-01  0.00000000e+00]\n",
      "  [ 1.09578725e+00 -3.18131781e-01 -1.16648320e+00 -1.44926700e+00\n",
      "   -1.16648320e+00 -3.18131781e-01  1.09578725e+00]\n",
      "  [ 8.13003440e-01 -6.00915586e-01 -1.44926700e+00 -1.73205081e+00\n",
      "   -1.44926700e+00 -6.00915586e-01  8.13003440e-01]\n",
      "  [ 1.09578725e+00 -3.18131781e-01 -1.16648320e+00 -1.44926700e+00\n",
      "   -1.16648320e+00 -3.18131781e-01  1.09578725e+00]\n",
      "  [ 0.00000000e+00  5.30219635e-01 -3.18131781e-01 -6.00915586e-01\n",
      "   -3.18131781e-01  5.30219635e-01  0.00000000e+00]\n",
      "  [ 0.00000000e+00  0.00000000e+00  1.09578725e+00  8.13003440e-01\n",
      "    1.09578725e+00  0.00000000e+00  0.00000000e+00]]]\n"
     ]
    }
   ],
   "source": [
    "print(aotools.functions.zernike.zernikeArray(4, 7 , norm='noll'))"
   ]
  },
  {
   "cell_type": "code",
   "execution_count": null,
   "id": "89c7cb13",
   "metadata": {},
   "outputs": [],
   "source": [
    "\n",
    "ZernikeFuncs=[1,rsin(t),rcos(t),(r**2)sin(2t),(2r**2)-1,(r**2)cos(2t),(r**3)sin(3t),((3r**3)-2r)sin(t),((3r**3)-2r)cos(t),(r**3)cos(3t),(r**4)sin(4t),((4r**4)-(3r**2))sin(2t),(6r**4)-(6r**2)+1,((4r**4)-(3r**2))cos(2t),(r**4)cos(4t),(r**5)sin(5t)]\n"
   ]
  },
  {
   "cell_type": "code",
   "execution_count": null,
   "id": "2493c6c9",
   "metadata": {},
   "outputs": [],
   "source": [
    "aotools.functions.zernike.zernikeArray(4, 7 , norm='noll')\n"
   ]
  },
  {
   "cell_type": "code",
   "execution_count": 7,
   "id": "c0ec366b",
   "metadata": {},
   "outputs": [
    {
     "data": {
      "text/plain": [
       "array([[[ 0.       ,  0.       ,  0.       ,  0.       ,  0.       ,\n",
       "          0.       ,  0.       ,  0.       ,  0.       ,  0.       ],\n",
       "        [ 2.       ,  0.       ,  0.       ,  0.       ,  0.       ,\n",
       "          0.       ,  0.       ,  0.       ,  0.       ,  0.       ],\n",
       "        [ 0.       ,  0.       ,  0.       ,  0.       ,  0.       ,\n",
       "          0.       ,  0.       ,  0.       ,  0.       ,  0.       ],\n",
       "        [ 0.       ,  3.4641016,  0.       ,  0.       ,  0.       ,\n",
       "          0.       ,  0.       ,  0.       ,  0.       ,  0.       ],\n",
       "        [ 0.       ,  0.       ,  2.4494898,  0.       ,  0.       ,\n",
       "          0.       ,  0.       ,  0.       ,  0.       ,  0.       ],\n",
       "        [ 0.       ,  2.4494898,  0.       ,  0.       ,  0.       ,\n",
       "          0.       ,  0.       ,  0.       ,  0.       ,  0.       ],\n",
       "        [ 0.       ,  0.       ,  0.       ,  0.       ,  3.4641016,\n",
       "          0.       ,  0.       ,  0.       ,  0.       ,  0.       ],\n",
       "        [ 2.828427 ,  0.       ,  0.       ,  4.8989797,  0.       ,\n",
       "          3.4641016,  0.       ,  0.       ,  0.       ,  0.       ],\n",
       "        [ 0.       ,  0.       ,  0.       ,  0.       ,  3.4641016,\n",
       "          0.       ,  0.       ,  0.       ,  0.       ,  0.       ],\n",
       "        [ 0.       ,  0.       ,  0.       ,  0.       ,  0.       ,\n",
       "          3.4641016,  0.       ,  0.       ,  0.       ,  0.       ]],\n",
       "\n",
       "       [[ 0.       ,  0.       ,  0.       ,  0.       ,  0.       ,\n",
       "          0.       ,  0.       ,  0.       ,  0.       ,  0.       ],\n",
       "        [ 0.       ,  0.       ,  0.       ,  0.       ,  0.       ,\n",
       "          0.       ,  0.       ,  0.       ,  0.       ,  0.       ],\n",
       "        [ 2.       ,  0.       ,  0.       ,  0.       ,  0.       ,\n",
       "          0.       ,  0.       ,  0.       ,  0.       ,  0.       ],\n",
       "        [ 0.       ,  0.       ,  3.4641016,  0.       ,  0.       ,\n",
       "          0.       ,  0.       ,  0.       ,  0.       ,  0.       ],\n",
       "        [ 0.       ,  2.4494898,  0.       ,  0.       ,  0.       ,\n",
       "          0.       ,  0.       ,  0.       ,  0.       ,  0.       ],\n",
       "        [ 0.       , -0.       , -2.4494898,  0.       ,  0.       ,\n",
       "          0.       ,  0.       ,  0.       ,  0.       ,  0.       ],\n",
       "        [ 2.828427 ,  0.       ,  0.       ,  4.8989797, -0.       ,\n",
       "         -3.4641016,  0.       ,  0.       ,  0.       ,  0.       ],\n",
       "        [ 0.       ,  0.       ,  0.       ,  0.       ,  3.4641016,\n",
       "          0.       ,  0.       ,  0.       ,  0.       ,  0.       ],\n",
       "        [ 0.       ,  0.       ,  0.       ,  0.       ,  0.       ,\n",
       "          3.4641016,  0.       ,  0.       ,  0.       ,  0.       ],\n",
       "        [ 0.       ,  0.       ,  0.       ,  0.       , -3.4641016,\n",
       "         -0.       ,  0.       ,  0.       ,  0.       ,  0.       ]]],\n",
       "      dtype=float32)"
      ]
     },
     "execution_count": 7,
     "metadata": {},
     "output_type": "execute_result"
    }
   ],
   "source": [
    "aotools.functions.zernike.makegammas(3)"
   ]
  },
  {
   "cell_type": "code",
   "execution_count": 66,
   "id": "a1e0a282",
   "metadata": {},
   "outputs": [
    {
     "data": {
      "image/png": "[encoded data removed]",
      "text/plain": [
       "<Figure size 432x288 with 4 Axes>"
      ]
     },
     "metadata": {
      "needs_background": "light"
     },
     "output_type": "display_data"
    }
   ],
   "source": [
    "\n",
    "import numpy as numpy\n",
    "import matplotlib.pylab as plt\n",
    "import random\n",
    "\n",
    "\n",
    "j=0+1j\n",
    "nx_size = 64 # pxls\n",
    "D = 0.06 # m\n",
    "pxlUnits = 1/64 # m/pxl\n",
    "pad_factor = 2\n",
    "r0 = 0.16 # m\n",
    "L0 = 50 # m\n",
    "l0 = 1e-3 # m\n",
    "wavelength = 500e-9 # m\n",
    "\n",
    "pupil = aotools.circle(D/pxlUnits/2, nx_size)\n",
    "\n",
    "PS=aotools.turbulence.phasescreen.ft_phase_screen(r0, nx_size, pxlUnits, L0, l0)\n",
    "\n",
    "wave_signal=complex_field = numpy.exp(j*PS) \n",
    "prop_signal=aotools.opticalpropagation.angularSpectrum(wave_signal, wavelength, pxlUnits , pxlUnits, 1)\n",
    "\n",
    "pad_size = nx_size*pad_factor\n",
    "padded_pupil = numpy.zeros((pad_size, pad_size))\n",
    "padded_pupil[:nx_size, :nx_size] = pupil\n",
    "\n",
    "complex_wave = padded_pupil*numpy.exp(j*0)\n",
    "\n",
    "E_f = aotools.ft2(complex_wave, delta=pxlUnits,)\n",
    "psf = numpy.abs(E_f)**2\n",
    "psf_cut = psf[int(pad_size/2-nx_size/2):int(pad_size/2+nx_size/2), int(pad_size/2-nx_size/2):int(pad_size/2+nx_size/2)]\n",
    "\n",
    "plt.figure()\n",
    "plt.subplot(1, 2, 1)\n",
    "plt.imshow(psf)\n",
    "plt.axis('off')\n",
    "cbar = plt.colorbar()\n",
    "cbar.set_label('Intensity (arbitrary units)', labelpad=8)\n",
    "plt.subplot(1, 2, 2)\n",
    "plt.imshow(psf_cut)\n",
    "plt.axis('off')\n",
    "cbar = plt.colorbar()\n",
    "cbar.set_label('Intensity (arbitrary units)', labelpad=8)\n",
    "\n",
    "            \n",
    "\n",
    "\n",
    "\n",
    "    \n",
    "        \n",
    "\n",
    "    \n",
    "    \n"
   ]
  },
  {
   "cell_type": "code",
   "execution_count": 124,
   "id": "c0d88ca8",
   "metadata": {},
   "outputs": [
    {
     "name": "stdout",
     "output_type": "stream",
     "text": [
      "True vals[1, 1, 1, 0, 1, 1, 1, 0, 0, 0, 1, 1, 0, 0] and pred vals [[ 1.00410840e+00  1.00185548e+00  1.00707792e+00  1.02933575e-02\n",
      "   1.00367877e+00  1.01084929e+00  1.01068809e+00  5.22243163e-03\n",
      "  -3.62689009e-05  2.17996237e-05  1.01128866e+00  1.01433466e+00\n",
      "   7.10681502e-03  2.03097254e-05]]\n",
      "True vals[0, 0, 1, 0, 1, 0, 0, 1, 0, 0, 1, 0, 1, 0] and pred vals [[ 4.10840130e-03  5.22243163e-03  1.00185548e+00  7.07956516e-03\n",
      "   1.01078559e+00 -3.52736077e-17  5.22243163e-03  1.00546566e+00\n",
      "  -2.17996237e-05  1.44692772e-05  1.00718026e+00  3.52736077e-17\n",
      "   1.01435191e+00 -4.06299489e-06]]\n"
     ]
    },
    {
     "data": {
      "image/png": "[encoded data removed]",
      "text/plain": [
       "<Figure size 432x288 with 2 Axes>"
      ]
     },
     "metadata": {
      "needs_background": "light"
     },
     "output_type": "display_data"
    },
    {
     "data": {
      "image/png": "[encoded data removed]",
      "text/plain": [
       "<Figure size 432x288 with 2 Axes>"
      ]
     },
     "metadata": {
      "needs_background": "light"
     },
     "output_type": "display_data"
    }
   ],
   "source": [
    "import random\n",
    "zernike_array = aotools.zernikeArray(10,128)\n",
    "\n",
    "import numpy\n",
    "import matplotlib.pylab as plt\n",
    "from tqdm import tqdm, trange, tqdm_notebook\n",
    "\n",
    "import aotools\n",
    "from aotools.turbulence import phasescreen, infinitephasescreen\n",
    "\n",
    "nx_size = 128 # pixels\n",
    "D = 1. # m \n",
    "pxl_scale = D/nx_size # m/pxl\n",
    "r0 = 0.32 # m \n",
    "L0 = 100 # m \n",
    "l0 = 1e-3 # m\n",
    "\n",
    "\n",
    "\n",
    "def ZernikeData(Wavefront,n_zerns,Display):\n",
    "    if (Display == \"yes\"):\n",
    "        Zs = aotools.zernikeArray(n_zerns, nx_size)\n",
    "        z_coefficients = numpy.zeros((1, n_zerns))\n",
    "        z_coefficients[0] = (Wavefront * Zs).sum((-1, -2))/(Zs[0].sum())\n",
    "        plt.figure()\n",
    "        plt.subplot(1, 2, 1)\n",
    "        plt.imshow(Wavefront)\n",
    "        plt.axis('off')\n",
    "        cbar = plt.colorbar()\n",
    "        cbar.set_label('Intensity (arbitrary units)', labelpad=8)\n",
    "        return z_coefficients\n",
    "    else:\n",
    "        Zs = aotools.zernikeArray(n_zerns, nx_size)\n",
    "        z_coefficients = numpy.zeros((1, n_zerns))\n",
    "        z_coefficients[0] = (Wavefront * Zs).sum((-1, -2))/(Zs[0].sum())\n",
    "        return z_coefficients\n",
    "\n",
    "def RandomZernikeComp(n_zerns,iter):\n",
    "    for z in range(iter):\n",
    "        zernike_array = aotools.zernikeArray(n_zerns,128)\n",
    "        randarr = [random.randint(0,1) for _ in range(n_zerns)]\n",
    "        iarr=[]\n",
    "        for i in range(n_zerns):\n",
    "            iarr.append(i)\n",
    "            zernike_array[i]=zernike_array[i]*randarr[i]\n",
    "       \n",
    "        superpose=numpy.zeros((128,128))\n",
    "    \n",
    "        for j in range(len(iarr)):\n",
    "            superpose+=zernike_array[j]\n",
    "        Truearr=ZernikeData(superpose,n_zerns,\"no\")\n",
    "        plt.figure()\n",
    "        plt.subplot(1, 2, 1)\n",
    "        plt.imshow(superpose)\n",
    "        plt.axis('off')\n",
    "        cbar = plt.colorbar()\n",
    "        cbar.set_label('Intensity (arbitrary units)', labelpad=8)\n",
    "        print(f\"True vals{randarr} and pred vals {Truearr}\")\n",
    "        \n",
    "    \n",
    "    \n",
    "        \n",
    "RandomZernikeComp(14,2)\n",
    "        \n",
    "    \n",
    "    \n",
    "\n",
    "\n",
    "\n",
    "\n",
    "\n",
    "\n",
    "    \n",
    "    \n",
    "    \n",
    "\n"
   ]
  },
  {
   "cell_type": "code",
   "execution_count": 103,
   "id": "ecc5f1b9",
   "metadata": {},
   "outputs": [
    {
     "ename": "IndentationError",
     "evalue": "expected an indented block (3788039828.py, line 48)",
     "output_type": "error",
     "traceback": [
      "\u001b[1;36m  Input \u001b[1;32mIn [103]\u001b[1;36m\u001b[0m\n\u001b[1;33m    print(ZernikeDataGen(psf,15,\"yes\"))\u001b[0m\n\u001b[1;37m                                       ^\u001b[0m\n\u001b[1;31mIndentationError\u001b[0m\u001b[1;31m:\u001b[0m expected an indented block\n"
     ]
    }
   ],
   "source": []
  },
  {
   "cell_type": "code",
   "execution_count": null,
   "id": "ed47797a",
   "metadata": {},
   "outputs": [],
   "source": []
  }
 ],
 "metadata": {
  "kernelspec": {
   "display_name": "Python 3 (ipykernel)",
   "language": "python",
   "name": "python3"
  },
  "language_info": {
   "codemirror_mode": {
    "name": "ipython",
    "version": 3
   },
   "file_extension": ".py",
   "mimetype": "text/x-python",
   "name": "python",
   "nbconvert_exporter": "python",
   "pygments_lexer": "ipython3",
   "version": "3.9.12"
  }
 },
 "nbformat": 4,
 "nbformat_minor": 5
}
